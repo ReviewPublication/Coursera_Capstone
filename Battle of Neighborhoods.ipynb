{
 "cells": [
  {
   "cell_type": "markdown",
   "metadata": {
    "collapsed": true
   },
   "source": [
    "### Coursera Capstone Project by Rounak Khatua"
   ]
  },
  {
   "cell_type": "markdown",
   "metadata": {},
   "source": [
    "### Introduction"
   ]
  },
  {
   "cell_type": "markdown",
   "metadata": {},
   "source": [
    "BUSINESS PROBLEM:- An athelete and sports enthusasit student is shifting from his home country to toronto for higher studies so as result he/she is searching for home rent near places where sports/fitness areas are located in close proximity. For this reason he has contacted a real estate agent to ease out his work. This project will recommend the areas to the real estate agent where he/she can allocate a home for rent to the student.This project will be help the real estate agent in providing better quality of service by allocating proper homes for rent to its customer.\n",
    "\n",
    "\n",
    "Audinece/User- Sports enthusasit students looking for home to rent.\n",
    "\n"
   ]
  },
  {
   "cell_type": "markdown",
   "metadata": {},
   "source": [
    "### Data Requirements"
   ]
  },
  {
   "cell_type": "markdown",
   "metadata": {},
   "source": [
    "1)Toronto Postal Code and Neighborhood data will be used from the wiki page - https://en.wikipedia.org/wiki/List_of_postal_codes_of_Canada:_M                 \n",
    "2)Geo Coordinates will be used from the csv file provided - 'Geospatial_Coordinates.csv'                                                                         \n",
    "3)Foursquare Data will be used to analyze different venues in the neighborhoods"
   ]
  },
  {
   "cell_type": "code",
   "execution_count": null,
   "metadata": {},
   "outputs": [],
   "source": []
  }
 ],
 "metadata": {
  "kernelspec": {
   "display_name": "Python 3.6",
   "language": "python",
   "name": "python3"
  },
  "language_info": {
   "codemirror_mode": {
    "name": "ipython",
    "version": 3
   },
   "file_extension": ".py",
   "mimetype": "text/x-python",
   "name": "python",
   "nbconvert_exporter": "python",
   "pygments_lexer": "ipython3",
   "version": "3.6.8"
  }
 },
 "nbformat": 4,
 "nbformat_minor": 1
}
